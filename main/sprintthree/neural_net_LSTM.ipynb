{
 "metadata": {
  "language_info": {
   "codemirror_mode": {
    "name": "ipython",
    "version": 3
   },
   "file_extension": ".py",
   "mimetype": "text/x-python",
   "name": "python",
   "nbconvert_exporter": "python",
   "pygments_lexer": "ipython3",
   "version": "3.8.3-final"
  },
  "orig_nbformat": 2,
  "kernelspec": {
   "name": "python3",
   "display_name": "Python 3.8.3 64-bit",
   "metadata": {
    "interpreter": {
     "hash": "51dce0cf112cdbc3874300976f38ea8f03f71cad562873fab034c5a30c6169c8"
    }
   }
  }
 },
 "nbformat": 4,
 "nbformat_minor": 2,
 "cells": [
  {
   "cell_type": "code",
   "execution_count": 1,
   "metadata": {},
   "outputs": [],
   "source": [
    "import csv\n",
    "import pandas as pd\n",
    "import numpy as np\n",
    "from datetime import datetime\n",
    "import statistics\n",
    "from statistics import mode\n",
    "from numpy import array\n",
    "\n",
    "import matplotlib.pyplot as plt\n",
    "\n",
    "from sklearn.preprocessing import MinMaxScaler\n",
    "from sklearn.model_selection import train_test_split\n",
    "from keras.preprocessing.sequence import pad_sequences\n",
    "from keras.utils import to_categorical\n",
    "from keras.layers import Masking,Dropout,Embedding\n",
    "from keras.layers.core import Activation\n",
    "from keras.models import Sequential\n",
    "from keras.layers import Dense, LSTM, TimeDistributed\n",
    "from keras.callbacks import EarlyStopping, ModelCheckpoint"
   ]
  },
  {
   "cell_type": "code",
   "execution_count": 2,
   "metadata": {},
   "outputs": [
    {
     "output_type": "execute_result",
     "data": {
      "text/plain": [
       "             eventID_  case_concept:name                  case_REG_DATE  \\\n",
       "0      44964012621824             206324  2012-02-03T17:17:11.047+01:00   \n",
       "1      44964012621825             206324  2012-02-03T17:17:11.047+01:00   \n",
       "2      44964012621826             206324  2012-02-03T17:17:11.047+01:00   \n",
       "3      44968307589120             206327  2012-02-03T17:23:41.949+01:00   \n",
       "4      44968307589121             206327  2012-02-03T17:23:41.949+01:00   \n",
       "...               ...                ...                            ...   \n",
       "47818  54666343743523             213276  2012-02-27T14:12:41.868+01:00   \n",
       "47819  54666343743524             213276  2012-02-27T14:12:41.868+01:00   \n",
       "47820  49495203119136             209595  2012-02-15T10:10:36.503+01:00   \n",
       "47821  52342766436386             211624  2012-02-21T23:38:40.044+01:00   \n",
       "47822  52342766436387             211624  2012-02-21T23:38:40.044+01:00   \n",
       "\n",
       "       case_AMOUNT_REQ              event_concept:name  \\\n",
       "0                 2500                     A_SUBMITTED   \n",
       "1                 2500               A_PARTLYSUBMITTED   \n",
       "2                 2500                      A_DECLINED   \n",
       "3                 6000                     A_SUBMITTED   \n",
       "4                 6000               A_PARTLYSUBMITTED   \n",
       "...                ...                             ...   \n",
       "47818            15000  W_Nabellen incomplete dossiers   \n",
       "47819            15000  W_Nabellen incomplete dossiers   \n",
       "47820            13000             W_Nabellen offertes   \n",
       "47821            35000  W_Nabellen incomplete dossiers   \n",
       "47822            35000  W_Nabellen incomplete dossiers   \n",
       "\n",
       "      event_lifecycle:transition    event_time:timestamp  \n",
       "0                       COMPLETE 2012-02-03 17:17:11.047  \n",
       "1                       COMPLETE 2012-02-03 17:17:11.323  \n",
       "2                       COMPLETE 2012-02-03 17:17:42.964  \n",
       "3                       COMPLETE 2012-02-03 17:23:41.949  \n",
       "4                       COMPLETE 2012-02-03 17:23:42.504  \n",
       "...                          ...                     ...  \n",
       "47818                      START 2012-03-14 15:59:28.309  \n",
       "47819                   COMPLETE 2012-03-14 16:00:09.680  \n",
       "47820                      START 2012-03-14 16:02:03.883  \n",
       "47821                      START 2012-03-14 16:04:46.192  \n",
       "47822                   COMPLETE 2012-03-14 16:04:54.681  \n",
       "\n",
       "[47823 rows x 7 columns]"
      ],
      "text/html": "<div>\n<style scoped>\n    .dataframe tbody tr th:only-of-type {\n        vertical-align: middle;\n    }\n\n    .dataframe tbody tr th {\n        vertical-align: top;\n    }\n\n    .dataframe thead th {\n        text-align: right;\n    }\n</style>\n<table border=\"1\" class=\"dataframe\">\n  <thead>\n    <tr style=\"text-align: right;\">\n      <th></th>\n      <th>eventID_</th>\n      <th>case_concept:name</th>\n      <th>case_REG_DATE</th>\n      <th>case_AMOUNT_REQ</th>\n      <th>event_concept:name</th>\n      <th>event_lifecycle:transition</th>\n      <th>event_time:timestamp</th>\n    </tr>\n  </thead>\n  <tbody>\n    <tr>\n      <th>0</th>\n      <td>44964012621824</td>\n      <td>206324</td>\n      <td>2012-02-03T17:17:11.047+01:00</td>\n      <td>2500</td>\n      <td>A_SUBMITTED</td>\n      <td>COMPLETE</td>\n      <td>2012-02-03 17:17:11.047</td>\n    </tr>\n    <tr>\n      <th>1</th>\n      <td>44964012621825</td>\n      <td>206324</td>\n      <td>2012-02-03T17:17:11.047+01:00</td>\n      <td>2500</td>\n      <td>A_PARTLYSUBMITTED</td>\n      <td>COMPLETE</td>\n      <td>2012-02-03 17:17:11.323</td>\n    </tr>\n    <tr>\n      <th>2</th>\n      <td>44964012621826</td>\n      <td>206324</td>\n      <td>2012-02-03T17:17:11.047+01:00</td>\n      <td>2500</td>\n      <td>A_DECLINED</td>\n      <td>COMPLETE</td>\n      <td>2012-02-03 17:17:42.964</td>\n    </tr>\n    <tr>\n      <th>3</th>\n      <td>44968307589120</td>\n      <td>206327</td>\n      <td>2012-02-03T17:23:41.949+01:00</td>\n      <td>6000</td>\n      <td>A_SUBMITTED</td>\n      <td>COMPLETE</td>\n      <td>2012-02-03 17:23:41.949</td>\n    </tr>\n    <tr>\n      <th>4</th>\n      <td>44968307589121</td>\n      <td>206327</td>\n      <td>2012-02-03T17:23:41.949+01:00</td>\n      <td>6000</td>\n      <td>A_PARTLYSUBMITTED</td>\n      <td>COMPLETE</td>\n      <td>2012-02-03 17:23:42.504</td>\n    </tr>\n    <tr>\n      <th>...</th>\n      <td>...</td>\n      <td>...</td>\n      <td>...</td>\n      <td>...</td>\n      <td>...</td>\n      <td>...</td>\n      <td>...</td>\n    </tr>\n    <tr>\n      <th>47818</th>\n      <td>54666343743523</td>\n      <td>213276</td>\n      <td>2012-02-27T14:12:41.868+01:00</td>\n      <td>15000</td>\n      <td>W_Nabellen incomplete dossiers</td>\n      <td>START</td>\n      <td>2012-03-14 15:59:28.309</td>\n    </tr>\n    <tr>\n      <th>47819</th>\n      <td>54666343743524</td>\n      <td>213276</td>\n      <td>2012-02-27T14:12:41.868+01:00</td>\n      <td>15000</td>\n      <td>W_Nabellen incomplete dossiers</td>\n      <td>COMPLETE</td>\n      <td>2012-03-14 16:00:09.680</td>\n    </tr>\n    <tr>\n      <th>47820</th>\n      <td>49495203119136</td>\n      <td>209595</td>\n      <td>2012-02-15T10:10:36.503+01:00</td>\n      <td>13000</td>\n      <td>W_Nabellen offertes</td>\n      <td>START</td>\n      <td>2012-03-14 16:02:03.883</td>\n    </tr>\n    <tr>\n      <th>47821</th>\n      <td>52342766436386</td>\n      <td>211624</td>\n      <td>2012-02-21T23:38:40.044+01:00</td>\n      <td>35000</td>\n      <td>W_Nabellen incomplete dossiers</td>\n      <td>START</td>\n      <td>2012-03-14 16:04:46.192</td>\n    </tr>\n    <tr>\n      <th>47822</th>\n      <td>52342766436387</td>\n      <td>211624</td>\n      <td>2012-02-21T23:38:40.044+01:00</td>\n      <td>35000</td>\n      <td>W_Nabellen incomplete dossiers</td>\n      <td>COMPLETE</td>\n      <td>2012-03-14 16:04:54.681</td>\n    </tr>\n  </tbody>\n</table>\n<p>47823 rows × 7 columns</p>\n</div>"
     },
     "metadata": {},
     "execution_count": 2
    }
   ],
   "source": [
    "#input path to data:\n",
    "with open('C:\\\\Users\\\\...', 'r') as file:\n",
    "        data = pd.read_csv(file)\n",
    "        data.columns = ((data.columns.str).replace(\" \",\"_\"))\n",
    "\n",
    "data['event_time:timestamp'] = pd.to_datetime(data['event_time:timestamp'].astype(str), format='%d-%m-%Y %H:%M:%S.%f')\n",
    "data_sorted = data.sort_values(by=['event_time:timestamp']).reset_index(drop=True)\n",
    "data_sorted"
   ]
  },
  {
   "cell_type": "code",
   "execution_count": 3,
   "metadata": {},
   "outputs": [
    {
     "output_type": "stream",
     "name": "stderr",
     "text": [
      "<ipython-input-3-4f9ab08c81ef>:3: SettingWithCopyWarning: \nA value is trying to be set on a copy of a slice from a DataFrame.\nTry using .loc[row_indexer,col_indexer] = value instead\n\nSee the caveats in the documentation: https://pandas.pydata.org/pandas-docs/stable/user_guide/indexing.html#returning-a-view-versus-a-copy\n  data_filtered_event['next_event'] = data_filtered_event['event_concept:name'].shift(-1)\nC:\\User Data\\Programs\\Python\\Python3.8.3-64\\lib\\site-packages\\pandas\\core\\indexing.py:671: SettingWithCopyWarning: \nA value is trying to be set on a copy of a slice from a DataFrame\n\nSee the caveats in the documentation: https://pandas.pydata.org/pandas-docs/stable/user_guide/indexing.html#returning-a-view-versus-a-copy\n  self._setitem_with_indexer(indexer, value)\n<ipython-input-3-4f9ab08c81ef>:4: SettingWithCopyWarning: \nA value is trying to be set on a copy of a slice from a DataFrame\n\nSee the caveats in the documentation: https://pandas.pydata.org/pandas-docs/stable/user_guide/indexing.html#returning-a-view-versus-a-copy\n  data_filtered_event['next_event'].iloc[-1:] = data_filtered_event['event_concept:name'].iloc[-1:] # Might give issues\n"
     ]
    },
    {
     "output_type": "execute_result",
     "data": {
      "text/plain": [
       "             eventID_  case_concept:name              event_concept:name  \\\n",
       "0      44964012621824             206324                     A_SUBMITTED   \n",
       "1      44964012621825             206324               A_PARTLYSUBMITTED   \n",
       "2      44964012621826             206324                      A_DECLINED   \n",
       "3      44968307589120             206327                     A_SUBMITTED   \n",
       "4      44968307589121             206327               A_PARTLYSUBMITTED   \n",
       "...               ...                ...                             ...   \n",
       "47818  54666343743523             213276  W_Nabellen incomplete dossiers   \n",
       "47819  54666343743524             213276  W_Nabellen incomplete dossiers   \n",
       "47820  49495203119136             209595             W_Nabellen offertes   \n",
       "47821  52342766436386             211624  W_Nabellen incomplete dossiers   \n",
       "47822  52342766436387             211624  W_Nabellen incomplete dossiers   \n",
       "\n",
       "                           next_event  \n",
       "0                   A_PARTLYSUBMITTED  \n",
       "1                          A_DECLINED  \n",
       "2                         A_SUBMITTED  \n",
       "3                   A_PARTLYSUBMITTED  \n",
       "4                       A_PREACCEPTED  \n",
       "...                               ...  \n",
       "47818  W_Nabellen incomplete dossiers  \n",
       "47819             W_Nabellen offertes  \n",
       "47820  W_Nabellen incomplete dossiers  \n",
       "47821  W_Nabellen incomplete dossiers  \n",
       "47822  W_Nabellen incomplete dossiers  \n",
       "\n",
       "[47823 rows x 4 columns]"
      ],
      "text/html": "<div>\n<style scoped>\n    .dataframe tbody tr th:only-of-type {\n        vertical-align: middle;\n    }\n\n    .dataframe tbody tr th {\n        vertical-align: top;\n    }\n\n    .dataframe thead th {\n        text-align: right;\n    }\n</style>\n<table border=\"1\" class=\"dataframe\">\n  <thead>\n    <tr style=\"text-align: right;\">\n      <th></th>\n      <th>eventID_</th>\n      <th>case_concept:name</th>\n      <th>event_concept:name</th>\n      <th>next_event</th>\n    </tr>\n  </thead>\n  <tbody>\n    <tr>\n      <th>0</th>\n      <td>44964012621824</td>\n      <td>206324</td>\n      <td>A_SUBMITTED</td>\n      <td>A_PARTLYSUBMITTED</td>\n    </tr>\n    <tr>\n      <th>1</th>\n      <td>44964012621825</td>\n      <td>206324</td>\n      <td>A_PARTLYSUBMITTED</td>\n      <td>A_DECLINED</td>\n    </tr>\n    <tr>\n      <th>2</th>\n      <td>44964012621826</td>\n      <td>206324</td>\n      <td>A_DECLINED</td>\n      <td>A_SUBMITTED</td>\n    </tr>\n    <tr>\n      <th>3</th>\n      <td>44968307589120</td>\n      <td>206327</td>\n      <td>A_SUBMITTED</td>\n      <td>A_PARTLYSUBMITTED</td>\n    </tr>\n    <tr>\n      <th>4</th>\n      <td>44968307589121</td>\n      <td>206327</td>\n      <td>A_PARTLYSUBMITTED</td>\n      <td>A_PREACCEPTED</td>\n    </tr>\n    <tr>\n      <th>...</th>\n      <td>...</td>\n      <td>...</td>\n      <td>...</td>\n      <td>...</td>\n    </tr>\n    <tr>\n      <th>47818</th>\n      <td>54666343743523</td>\n      <td>213276</td>\n      <td>W_Nabellen incomplete dossiers</td>\n      <td>W_Nabellen incomplete dossiers</td>\n    </tr>\n    <tr>\n      <th>47819</th>\n      <td>54666343743524</td>\n      <td>213276</td>\n      <td>W_Nabellen incomplete dossiers</td>\n      <td>W_Nabellen offertes</td>\n    </tr>\n    <tr>\n      <th>47820</th>\n      <td>49495203119136</td>\n      <td>209595</td>\n      <td>W_Nabellen offertes</td>\n      <td>W_Nabellen incomplete dossiers</td>\n    </tr>\n    <tr>\n      <th>47821</th>\n      <td>52342766436386</td>\n      <td>211624</td>\n      <td>W_Nabellen incomplete dossiers</td>\n      <td>W_Nabellen incomplete dossiers</td>\n    </tr>\n    <tr>\n      <th>47822</th>\n      <td>52342766436387</td>\n      <td>211624</td>\n      <td>W_Nabellen incomplete dossiers</td>\n      <td>W_Nabellen incomplete dossiers</td>\n    </tr>\n  </tbody>\n</table>\n<p>47823 rows × 4 columns</p>\n</div>"
     },
     "metadata": {},
     "execution_count": 3
    }
   ],
   "source": [
    "#Data needed for event prediction\n",
    "data_filtered_event = data_sorted[['eventID_', 'case_concept:name', 'event_concept:name']]\n",
    "data_filtered_event['next_event'] = data_filtered_event['event_concept:name'].shift(-1)\n",
    "data_filtered_event['next_event'].iloc[-1:] = data_filtered_event['event_concept:name'].iloc[-1:] # Might give issues\n",
    "data_filtered_event"
   ]
  },
  {
   "cell_type": "code",
   "execution_count": 17,
   "metadata": {},
   "outputs": [
    {
     "output_type": "stream",
     "name": "stderr",
     "text": [
      "C:\\User Data\\Programs\\Python\\Python3.8.3-64\\lib\\site-packages\\pandas\\core\\generic.py:6746: SettingWithCopyWarning: \nA value is trying to be set on a copy of a slice from a DataFrame\n\nSee the caveats in the documentation: https://pandas.pydata.org/pandas-docs/stable/user_guide/indexing.html#returning-a-view-versus-a-copy\n  self._update_inplace(new_data)\n"
     ]
    },
    {
     "output_type": "execute_result",
     "data": {
      "text/plain": [
       "(             eventID_  case_concept:name  event_concept:name  next_event  \\\n",
       " 0      44964012621824             206324                   0           1   \n",
       " 1      44964012621825             206324                   1           2   \n",
       " 2      44964012621826             206324                   2           0   \n",
       " 3      44968307589120             206327                   0           1   \n",
       " 4      44968307589121             206327                   1           3   \n",
       " ...               ...                ...                 ...         ...   \n",
       " 47818  54666343743523             213276                  17          17   \n",
       " 47819  54666343743524             213276                  17          11   \n",
       " 47820  49495203119136             209595                  11          17   \n",
       " 47821  52342766436386             211624                  17          17   \n",
       " 47822  52342766436387             211624                  17          17   \n",
       " \n",
       "                  LSTM_predict  \n",
       " 0         W_Nabellen offertes  \n",
       " 1                 A_FINALIZED  \n",
       " 2      W_Completeren aanvraag  \n",
       " 3        W_Valideren aanvraag  \n",
       " 4         W_Nabellen offertes  \n",
       " ...                       ...  \n",
       " 47818                     NaN  \n",
       " 47819                     NaN  \n",
       " 47820                     NaN  \n",
       " 47821                     NaN  \n",
       " 47822                     NaN  \n",
       " \n",
       " [47823 rows x 5 columns],\n",
       " 47823)"
      ]
     },
     "metadata": {},
     "execution_count": 17
    }
   ],
   "source": [
    "#replace cases with numbers\n",
    "event_name = data_filtered_event['event_concept:name'].unique()\n",
    "event_name_dict = dict(zip(event_name, range(len(event_name))))\n",
    "data_filtered_event['event_concept:name'].replace(event_name_dict, inplace=True)\n",
    "data_filtered_event['next_event'].replace(event_name_dict, inplace=True)\n",
    "data_filtered_event"
   ]
  },
  {
   "cell_type": "code",
   "execution_count": 5,
   "metadata": {},
   "outputs": [],
   "source": [
    "all_traces = data_filtered_event.groupby('case_concept:name')['event_concept:name'].apply(list).tolist()\n",
    "all_traces_val = data_filtered_event.groupby('case_concept:name')['next_event'].apply(list).tolist()"
   ]
  },
  {
   "cell_type": "code",
   "execution_count": 6,
   "metadata": {},
   "outputs": [],
   "source": [
    "traces_3d = list()\n",
    "for i in all_traces:\n",
    "    for j in range(1, len(i)):\n",
    "        if j == 1:\n",
    "            trace_2d = [0, 0]\n",
    "            traces_3d.append(trace_2d)\n",
    "        else:\n",
    "            trace_2d = i[j-2:j]\n",
    "            traces_3d.append(trace_2d)\n",
    "\n",
    "traces_3d_val = list()\n",
    "for i in all_traces_val:\n",
    "    for j in range(0, len(i)-1):\n",
    "        trace_2d = i[j+1]\n",
    "        traces_3d_val.append(trace_2d)\n"
   ]
  },
  {
   "cell_type": "code",
   "execution_count": 7,
   "metadata": {},
   "outputs": [],
   "source": [
    "traces_padded = pad_sequences(traces_3d, maxlen = 2, padding = 'pre')\n",
    "traces_array = array(traces_padded)\n",
    "traces_val_array = array(traces_3d_val)"
   ]
  },
  {
   "cell_type": "code",
   "execution_count": 8,
   "metadata": {},
   "outputs": [
    {
     "output_type": "execute_result",
     "data": {
      "text/plain": [
       "array([[11, 11],\n",
       "       [ 4,  6],\n",
       "       [ 4,  4],\n",
       "       ...,\n",
       "       [ 4,  4],\n",
       "       [ 4,  4],\n",
       "       [ 4,  4]])"
      ]
     },
     "metadata": {},
     "execution_count": 8
    }
   ],
   "source": [
    "all_traces, all_traces_valid, all_traces_val, all_traces_val_valid = train_test_split(traces_array, traces_val_array, test_size = 0.2, random_state = 21)\n",
    "all_traces\n",
    "        \n"
   ]
  },
  {
   "cell_type": "code",
   "execution_count": 9,
   "metadata": {},
   "outputs": [
    {
     "output_type": "stream",
     "name": "stdout",
     "text": [
      "Epoch 1/5\n",
      "1809/1809 - 16s - loss: 1.9648 - accuracy: 0.4235 - mse: 104.7481 - val_loss: 1.8089 - val_accuracy: 0.4557 - val_mse: 103.6868\n",
      "Epoch 2/5\n",
      "1809/1809 - 13s - loss: 1.8217 - accuracy: 0.4518 - mse: 104.7502 - val_loss: 1.7813 - val_accuracy: 0.4592 - val_mse: 103.6860\n",
      "Epoch 3/5\n",
      "1809/1809 - 13s - loss: 1.8070 - accuracy: 0.4552 - mse: 104.7505 - val_loss: 1.7769 - val_accuracy: 0.4617 - val_mse: 103.6862\n",
      "Epoch 4/5\n",
      "1809/1809 - 13s - loss: 1.7954 - accuracy: 0.4571 - mse: 104.7505 - val_loss: 1.7657 - val_accuracy: 0.4629 - val_mse: 103.6864\n",
      "Epoch 5/5\n",
      "1809/1809 - 12s - loss: 1.7884 - accuracy: 0.4564 - mse: 104.7506 - val_loss: 1.7625 - val_accuracy: 0.4659 - val_mse: 103.6856\n"
     ]
    }
   ],
   "source": [
    "model_LSTM = Sequential()\n",
    "model_LSTM.add(Embedding(len(event_name), 50, input_length = 2))\n",
    "model_LSTM.add(LSTM(50))\n",
    "model_LSTM.add(Dropout(0.2))\n",
    "model_LSTM.add(Dense(len(event_name), activation = 'softmax'))\n",
    "\n",
    "model_LSTM.compile(optimizer='Adam', loss='sparse_categorical_crossentropy', metrics=['accuracy','mse'])\n",
    "\n",
    "history = model_LSTM.fit(all_traces, all_traces_val, epochs = 5, verbose = 2, batch_size = 20, validation_data = (all_traces_valid, all_traces_val_valid))"
   ]
  },
  {
   "cell_type": "code",
   "execution_count": 10,
   "metadata": {},
   "outputs": [
    {
     "output_type": "execute_result",
     "data": {
      "text/plain": [
       "[<matplotlib.lines.Line2D at 0x22d92a499d0>]"
      ]
     },
     "metadata": {},
     "execution_count": 10
    },
    {
     "output_type": "display_data",
     "data": {
      "text/plain": "<Figure size 432x288 with 1 Axes>",
      "image/svg+xml": "<?xml version=\"1.0\" encoding=\"utf-8\" standalone=\"no\"?>\r\n<!DOCTYPE svg PUBLIC \"-//W3C//DTD SVG 1.1//EN\"\r\n  \"http://www.w3.org/Graphics/SVG/1.1/DTD/svg11.dtd\">\r\n<!-- Created with matplotlib (https://matplotlib.org/) -->\r\n<svg height=\"248.518125pt\" version=\"1.1\" viewBox=\"0 0 378.465625 248.518125\" width=\"378.465625pt\" xmlns=\"http://www.w3.org/2000/svg\" xmlns:xlink=\"http://www.w3.org/1999/xlink\">\r\n <defs>\r\n  <style type=\"text/css\">\r\n*{stroke-linecap:butt;stroke-linejoin:round;}\r\n  </style>\r\n </defs>\r\n <g id=\"figure_1\">\r\n  <g id=\"patch_1\">\r\n   <path d=\"M 0 248.518125 \r\nL 378.465625 248.518125 \r\nL 378.465625 0 \r\nL 0 0 \r\nz\r\n\" style=\"fill:none;\"/>\r\n  </g>\r\n  <g id=\"axes_1\">\r\n   <g id=\"patch_2\">\r\n    <path d=\"M 36.465625 224.64 \r\nL 371.265625 224.64 \r\nL 371.265625 7.2 \r\nL 36.465625 7.2 \r\nz\r\n\" style=\"fill:#ffffff;\"/>\r\n   </g>\r\n   <g id=\"matplotlib.axis_1\">\r\n    <g id=\"xtick_1\">\r\n     <g id=\"line2d_1\">\r\n      <defs>\r\n       <path d=\"M 0 0 \r\nL 0 3.5 \r\n\" id=\"m1fe36e005d\" style=\"stroke:#000000;stroke-width:0.8;\"/>\r\n      </defs>\r\n      <g>\r\n       <use style=\"stroke:#000000;stroke-width:0.8;\" x=\"51.683807\" xlink:href=\"#m1fe36e005d\" y=\"224.64\"/>\r\n      </g>\r\n     </g>\r\n     <g id=\"text_1\">\r\n      <!-- 0.0 -->\r\n      <defs>\r\n       <path d=\"M 31.78125 66.40625 \r\nQ 24.171875 66.40625 20.328125 58.90625 \r\nQ 16.5 51.421875 16.5 36.375 \r\nQ 16.5 21.390625 20.328125 13.890625 \r\nQ 24.171875 6.390625 31.78125 6.390625 \r\nQ 39.453125 6.390625 43.28125 13.890625 \r\nQ 47.125 21.390625 47.125 36.375 \r\nQ 47.125 51.421875 43.28125 58.90625 \r\nQ 39.453125 66.40625 31.78125 66.40625 \r\nz\r\nM 31.78125 74.21875 \r\nQ 44.046875 74.21875 50.515625 64.515625 \r\nQ 56.984375 54.828125 56.984375 36.375 \r\nQ 56.984375 17.96875 50.515625 8.265625 \r\nQ 44.046875 -1.421875 31.78125 -1.421875 \r\nQ 19.53125 -1.421875 13.0625 8.265625 \r\nQ 6.59375 17.96875 6.59375 36.375 \r\nQ 6.59375 54.828125 13.0625 64.515625 \r\nQ 19.53125 74.21875 31.78125 74.21875 \r\nz\r\n\" id=\"DejaVuSans-48\"/>\r\n       <path d=\"M 10.6875 12.40625 \r\nL 21 12.40625 \r\nL 21 0 \r\nL 10.6875 0 \r\nz\r\n\" id=\"DejaVuSans-46\"/>\r\n      </defs>\r\n      <g transform=\"translate(43.732244 239.238438)scale(0.1 -0.1)\">\r\n       <use xlink:href=\"#DejaVuSans-48\"/>\r\n       <use x=\"63.623047\" xlink:href=\"#DejaVuSans-46\"/>\r\n       <use x=\"95.410156\" xlink:href=\"#DejaVuSans-48\"/>\r\n      </g>\r\n     </g>\r\n    </g>\r\n    <g id=\"xtick_2\">\r\n     <g id=\"line2d_2\">\r\n      <g>\r\n       <use style=\"stroke:#000000;stroke-width:0.8;\" x=\"89.729261\" xlink:href=\"#m1fe36e005d\" y=\"224.64\"/>\r\n      </g>\r\n     </g>\r\n     <g id=\"text_2\">\r\n      <!-- 0.5 -->\r\n      <defs>\r\n       <path d=\"M 10.796875 72.90625 \r\nL 49.515625 72.90625 \r\nL 49.515625 64.59375 \r\nL 19.828125 64.59375 \r\nL 19.828125 46.734375 \r\nQ 21.96875 47.46875 24.109375 47.828125 \r\nQ 26.265625 48.1875 28.421875 48.1875 \r\nQ 40.625 48.1875 47.75 41.5 \r\nQ 54.890625 34.8125 54.890625 23.390625 \r\nQ 54.890625 11.625 47.5625 5.09375 \r\nQ 40.234375 -1.421875 26.90625 -1.421875 \r\nQ 22.3125 -1.421875 17.546875 -0.640625 \r\nQ 12.796875 0.140625 7.71875 1.703125 \r\nL 7.71875 11.625 \r\nQ 12.109375 9.234375 16.796875 8.0625 \r\nQ 21.484375 6.890625 26.703125 6.890625 \r\nQ 35.15625 6.890625 40.078125 11.328125 \r\nQ 45.015625 15.765625 45.015625 23.390625 \r\nQ 45.015625 31 40.078125 35.4375 \r\nQ 35.15625 39.890625 26.703125 39.890625 \r\nQ 22.75 39.890625 18.8125 39.015625 \r\nQ 14.890625 38.140625 10.796875 36.28125 \r\nz\r\n\" id=\"DejaVuSans-53\"/>\r\n      </defs>\r\n      <g transform=\"translate(81.777699 239.238438)scale(0.1 -0.1)\">\r\n       <use xlink:href=\"#DejaVuSans-48\"/>\r\n       <use x=\"63.623047\" xlink:href=\"#DejaVuSans-46\"/>\r\n       <use x=\"95.410156\" xlink:href=\"#DejaVuSans-53\"/>\r\n      </g>\r\n     </g>\r\n    </g>\r\n    <g id=\"xtick_3\">\r\n     <g id=\"line2d_3\">\r\n      <g>\r\n       <use style=\"stroke:#000000;stroke-width:0.8;\" x=\"127.774716\" xlink:href=\"#m1fe36e005d\" y=\"224.64\"/>\r\n      </g>\r\n     </g>\r\n     <g id=\"text_3\">\r\n      <!-- 1.0 -->\r\n      <defs>\r\n       <path d=\"M 12.40625 8.296875 \r\nL 28.515625 8.296875 \r\nL 28.515625 63.921875 \r\nL 10.984375 60.40625 \r\nL 10.984375 69.390625 \r\nL 28.421875 72.90625 \r\nL 38.28125 72.90625 \r\nL 38.28125 8.296875 \r\nL 54.390625 8.296875 \r\nL 54.390625 0 \r\nL 12.40625 0 \r\nz\r\n\" id=\"DejaVuSans-49\"/>\r\n      </defs>\r\n      <g transform=\"translate(119.823153 239.238438)scale(0.1 -0.1)\">\r\n       <use xlink:href=\"#DejaVuSans-49\"/>\r\n       <use x=\"63.623047\" xlink:href=\"#DejaVuSans-46\"/>\r\n       <use x=\"95.410156\" xlink:href=\"#DejaVuSans-48\"/>\r\n      </g>\r\n     </g>\r\n    </g>\r\n    <g id=\"xtick_4\">\r\n     <g id=\"line2d_4\">\r\n      <g>\r\n       <use style=\"stroke:#000000;stroke-width:0.8;\" x=\"165.82017\" xlink:href=\"#m1fe36e005d\" y=\"224.64\"/>\r\n      </g>\r\n     </g>\r\n     <g id=\"text_4\">\r\n      <!-- 1.5 -->\r\n      <g transform=\"translate(157.868608 239.238438)scale(0.1 -0.1)\">\r\n       <use xlink:href=\"#DejaVuSans-49\"/>\r\n       <use x=\"63.623047\" xlink:href=\"#DejaVuSans-46\"/>\r\n       <use x=\"95.410156\" xlink:href=\"#DejaVuSans-53\"/>\r\n      </g>\r\n     </g>\r\n    </g>\r\n    <g id=\"xtick_5\">\r\n     <g id=\"line2d_5\">\r\n      <g>\r\n       <use style=\"stroke:#000000;stroke-width:0.8;\" x=\"203.865625\" xlink:href=\"#m1fe36e005d\" y=\"224.64\"/>\r\n      </g>\r\n     </g>\r\n     <g id=\"text_5\">\r\n      <!-- 2.0 -->\r\n      <defs>\r\n       <path d=\"M 19.1875 8.296875 \r\nL 53.609375 8.296875 \r\nL 53.609375 0 \r\nL 7.328125 0 \r\nL 7.328125 8.296875 \r\nQ 12.9375 14.109375 22.625 23.890625 \r\nQ 32.328125 33.6875 34.8125 36.53125 \r\nQ 39.546875 41.84375 41.421875 45.53125 \r\nQ 43.3125 49.21875 43.3125 52.78125 \r\nQ 43.3125 58.59375 39.234375 62.25 \r\nQ 35.15625 65.921875 28.609375 65.921875 \r\nQ 23.96875 65.921875 18.8125 64.3125 \r\nQ 13.671875 62.703125 7.8125 59.421875 \r\nL 7.8125 69.390625 \r\nQ 13.765625 71.78125 18.9375 73 \r\nQ 24.125 74.21875 28.421875 74.21875 \r\nQ 39.75 74.21875 46.484375 68.546875 \r\nQ 53.21875 62.890625 53.21875 53.421875 \r\nQ 53.21875 48.921875 51.53125 44.890625 \r\nQ 49.859375 40.875 45.40625 35.40625 \r\nQ 44.1875 33.984375 37.640625 27.21875 \r\nQ 31.109375 20.453125 19.1875 8.296875 \r\nz\r\n\" id=\"DejaVuSans-50\"/>\r\n      </defs>\r\n      <g transform=\"translate(195.914063 239.238438)scale(0.1 -0.1)\">\r\n       <use xlink:href=\"#DejaVuSans-50\"/>\r\n       <use x=\"63.623047\" xlink:href=\"#DejaVuSans-46\"/>\r\n       <use x=\"95.410156\" xlink:href=\"#DejaVuSans-48\"/>\r\n      </g>\r\n     </g>\r\n    </g>\r\n    <g id=\"xtick_6\">\r\n     <g id=\"line2d_6\">\r\n      <g>\r\n       <use style=\"stroke:#000000;stroke-width:0.8;\" x=\"241.91108\" xlink:href=\"#m1fe36e005d\" y=\"224.64\"/>\r\n      </g>\r\n     </g>\r\n     <g id=\"text_6\">\r\n      <!-- 2.5 -->\r\n      <g transform=\"translate(233.959517 239.238438)scale(0.1 -0.1)\">\r\n       <use xlink:href=\"#DejaVuSans-50\"/>\r\n       <use x=\"63.623047\" xlink:href=\"#DejaVuSans-46\"/>\r\n       <use x=\"95.410156\" xlink:href=\"#DejaVuSans-53\"/>\r\n      </g>\r\n     </g>\r\n    </g>\r\n    <g id=\"xtick_7\">\r\n     <g id=\"line2d_7\">\r\n      <g>\r\n       <use style=\"stroke:#000000;stroke-width:0.8;\" x=\"279.956534\" xlink:href=\"#m1fe36e005d\" y=\"224.64\"/>\r\n      </g>\r\n     </g>\r\n     <g id=\"text_7\">\r\n      <!-- 3.0 -->\r\n      <defs>\r\n       <path d=\"M 40.578125 39.3125 \r\nQ 47.65625 37.796875 51.625 33 \r\nQ 55.609375 28.21875 55.609375 21.1875 \r\nQ 55.609375 10.40625 48.1875 4.484375 \r\nQ 40.765625 -1.421875 27.09375 -1.421875 \r\nQ 22.515625 -1.421875 17.65625 -0.515625 \r\nQ 12.796875 0.390625 7.625 2.203125 \r\nL 7.625 11.71875 \r\nQ 11.71875 9.328125 16.59375 8.109375 \r\nQ 21.484375 6.890625 26.8125 6.890625 \r\nQ 36.078125 6.890625 40.9375 10.546875 \r\nQ 45.796875 14.203125 45.796875 21.1875 \r\nQ 45.796875 27.640625 41.28125 31.265625 \r\nQ 36.765625 34.90625 28.71875 34.90625 \r\nL 20.21875 34.90625 \r\nL 20.21875 43.015625 \r\nL 29.109375 43.015625 \r\nQ 36.375 43.015625 40.234375 45.921875 \r\nQ 44.09375 48.828125 44.09375 54.296875 \r\nQ 44.09375 59.90625 40.109375 62.90625 \r\nQ 36.140625 65.921875 28.71875 65.921875 \r\nQ 24.65625 65.921875 20.015625 65.03125 \r\nQ 15.375 64.15625 9.8125 62.3125 \r\nL 9.8125 71.09375 \r\nQ 15.4375 72.65625 20.34375 73.4375 \r\nQ 25.25 74.21875 29.59375 74.21875 \r\nQ 40.828125 74.21875 47.359375 69.109375 \r\nQ 53.90625 64.015625 53.90625 55.328125 \r\nQ 53.90625 49.265625 50.4375 45.09375 \r\nQ 46.96875 40.921875 40.578125 39.3125 \r\nz\r\n\" id=\"DejaVuSans-51\"/>\r\n      </defs>\r\n      <g transform=\"translate(272.004972 239.238438)scale(0.1 -0.1)\">\r\n       <use xlink:href=\"#DejaVuSans-51\"/>\r\n       <use x=\"63.623047\" xlink:href=\"#DejaVuSans-46\"/>\r\n       <use x=\"95.410156\" xlink:href=\"#DejaVuSans-48\"/>\r\n      </g>\r\n     </g>\r\n    </g>\r\n    <g id=\"xtick_8\">\r\n     <g id=\"line2d_8\">\r\n      <g>\r\n       <use style=\"stroke:#000000;stroke-width:0.8;\" x=\"318.001989\" xlink:href=\"#m1fe36e005d\" y=\"224.64\"/>\r\n      </g>\r\n     </g>\r\n     <g id=\"text_8\">\r\n      <!-- 3.5 -->\r\n      <g transform=\"translate(310.050426 239.238438)scale(0.1 -0.1)\">\r\n       <use xlink:href=\"#DejaVuSans-51\"/>\r\n       <use x=\"63.623047\" xlink:href=\"#DejaVuSans-46\"/>\r\n       <use x=\"95.410156\" xlink:href=\"#DejaVuSans-53\"/>\r\n      </g>\r\n     </g>\r\n    </g>\r\n    <g id=\"xtick_9\">\r\n     <g id=\"line2d_9\">\r\n      <g>\r\n       <use style=\"stroke:#000000;stroke-width:0.8;\" x=\"356.047443\" xlink:href=\"#m1fe36e005d\" y=\"224.64\"/>\r\n      </g>\r\n     </g>\r\n     <g id=\"text_9\">\r\n      <!-- 4.0 -->\r\n      <defs>\r\n       <path d=\"M 37.796875 64.3125 \r\nL 12.890625 25.390625 \r\nL 37.796875 25.390625 \r\nz\r\nM 35.203125 72.90625 \r\nL 47.609375 72.90625 \r\nL 47.609375 25.390625 \r\nL 58.015625 25.390625 \r\nL 58.015625 17.1875 \r\nL 47.609375 17.1875 \r\nL 47.609375 0 \r\nL 37.796875 0 \r\nL 37.796875 17.1875 \r\nL 4.890625 17.1875 \r\nL 4.890625 26.703125 \r\nz\r\n\" id=\"DejaVuSans-52\"/>\r\n      </defs>\r\n      <g transform=\"translate(348.095881 239.238438)scale(0.1 -0.1)\">\r\n       <use xlink:href=\"#DejaVuSans-52\"/>\r\n       <use x=\"63.623047\" xlink:href=\"#DejaVuSans-46\"/>\r\n       <use x=\"95.410156\" xlink:href=\"#DejaVuSans-48\"/>\r\n      </g>\r\n     </g>\r\n    </g>\r\n   </g>\r\n   <g id=\"matplotlib.axis_2\">\r\n    <g id=\"ytick_1\">\r\n     <g id=\"line2d_10\">\r\n      <defs>\r\n       <path d=\"M 0 0 \r\nL -3.5 0 \r\n\" id=\"mdfdfa42c52\" style=\"stroke:#000000;stroke-width:0.8;\"/>\r\n      </defs>\r\n      <g>\r\n       <use style=\"stroke:#000000;stroke-width:0.8;\" x=\"36.465625\" xlink:href=\"#mdfdfa42c52\" y=\"184.605749\"/>\r\n      </g>\r\n     </g>\r\n     <g id=\"text_10\">\r\n      <!-- 0.43 -->\r\n      <g transform=\"translate(7.2 188.404967)scale(0.1 -0.1)\">\r\n       <use xlink:href=\"#DejaVuSans-48\"/>\r\n       <use x=\"63.623047\" xlink:href=\"#DejaVuSans-46\"/>\r\n       <use x=\"95.410156\" xlink:href=\"#DejaVuSans-52\"/>\r\n       <use x=\"159.033203\" xlink:href=\"#DejaVuSans-51\"/>\r\n      </g>\r\n     </g>\r\n    </g>\r\n    <g id=\"ytick_2\">\r\n     <g id=\"line2d_11\">\r\n      <g>\r\n       <use style=\"stroke:#000000;stroke-width:0.8;\" x=\"36.465625\" xlink:href=\"#mdfdfa42c52\" y=\"137.91318\"/>\r\n      </g>\r\n     </g>\r\n     <g id=\"text_11\">\r\n      <!-- 0.44 -->\r\n      <g transform=\"translate(7.2 141.712399)scale(0.1 -0.1)\">\r\n       <use xlink:href=\"#DejaVuSans-48\"/>\r\n       <use x=\"63.623047\" xlink:href=\"#DejaVuSans-46\"/>\r\n       <use x=\"95.410156\" xlink:href=\"#DejaVuSans-52\"/>\r\n       <use x=\"159.033203\" xlink:href=\"#DejaVuSans-52\"/>\r\n      </g>\r\n     </g>\r\n    </g>\r\n    <g id=\"ytick_3\">\r\n     <g id=\"line2d_12\">\r\n      <g>\r\n       <use style=\"stroke:#000000;stroke-width:0.8;\" x=\"36.465625\" xlink:href=\"#mdfdfa42c52\" y=\"91.220612\"/>\r\n      </g>\r\n     </g>\r\n     <g id=\"text_12\">\r\n      <!-- 0.45 -->\r\n      <g transform=\"translate(7.2 95.01983)scale(0.1 -0.1)\">\r\n       <use xlink:href=\"#DejaVuSans-48\"/>\r\n       <use x=\"63.623047\" xlink:href=\"#DejaVuSans-46\"/>\r\n       <use x=\"95.410156\" xlink:href=\"#DejaVuSans-52\"/>\r\n       <use x=\"159.033203\" xlink:href=\"#DejaVuSans-53\"/>\r\n      </g>\r\n     </g>\r\n    </g>\r\n    <g id=\"ytick_4\">\r\n     <g id=\"line2d_13\">\r\n      <g>\r\n       <use style=\"stroke:#000000;stroke-width:0.8;\" x=\"36.465625\" xlink:href=\"#mdfdfa42c52\" y=\"44.528043\"/>\r\n      </g>\r\n     </g>\r\n     <g id=\"text_13\">\r\n      <!-- 0.46 -->\r\n      <defs>\r\n       <path d=\"M 33.015625 40.375 \r\nQ 26.375 40.375 22.484375 35.828125 \r\nQ 18.609375 31.296875 18.609375 23.390625 \r\nQ 18.609375 15.53125 22.484375 10.953125 \r\nQ 26.375 6.390625 33.015625 6.390625 \r\nQ 39.65625 6.390625 43.53125 10.953125 \r\nQ 47.40625 15.53125 47.40625 23.390625 \r\nQ 47.40625 31.296875 43.53125 35.828125 \r\nQ 39.65625 40.375 33.015625 40.375 \r\nz\r\nM 52.59375 71.296875 \r\nL 52.59375 62.3125 \r\nQ 48.875 64.0625 45.09375 64.984375 \r\nQ 41.3125 65.921875 37.59375 65.921875 \r\nQ 27.828125 65.921875 22.671875 59.328125 \r\nQ 17.53125 52.734375 16.796875 39.40625 \r\nQ 19.671875 43.65625 24.015625 45.921875 \r\nQ 28.375 48.1875 33.59375 48.1875 \r\nQ 44.578125 48.1875 50.953125 41.515625 \r\nQ 57.328125 34.859375 57.328125 23.390625 \r\nQ 57.328125 12.15625 50.6875 5.359375 \r\nQ 44.046875 -1.421875 33.015625 -1.421875 \r\nQ 20.359375 -1.421875 13.671875 8.265625 \r\nQ 6.984375 17.96875 6.984375 36.375 \r\nQ 6.984375 53.65625 15.1875 63.9375 \r\nQ 23.390625 74.21875 37.203125 74.21875 \r\nQ 40.921875 74.21875 44.703125 73.484375 \r\nQ 48.484375 72.75 52.59375 71.296875 \r\nz\r\n\" id=\"DejaVuSans-54\"/>\r\n      </defs>\r\n      <g transform=\"translate(7.2 48.327262)scale(0.1 -0.1)\">\r\n       <use xlink:href=\"#DejaVuSans-48\"/>\r\n       <use x=\"63.623047\" xlink:href=\"#DejaVuSans-46\"/>\r\n       <use x=\"95.410156\" xlink:href=\"#DejaVuSans-52\"/>\r\n       <use x=\"159.033203\" xlink:href=\"#DejaVuSans-54\"/>\r\n      </g>\r\n     </g>\r\n    </g>\r\n   </g>\r\n   <g id=\"line2d_14\">\r\n    <path clip-path=\"url(#p10911de3da)\" d=\"M 51.683807 214.756364 \r\nL 127.774716 82.802365 \r\nL 203.865625 66.921474 \r\nL 279.956534 58.012651 \r\nL 356.047443 61.240483 \r\n\" style=\"fill:none;stroke:#1f77b4;stroke-linecap:square;stroke-width:1.5;\"/>\r\n   </g>\r\n   <g id=\"line2d_15\">\r\n    <path clip-path=\"url(#p10911de3da)\" d=\"M 51.683807 64.597451 \r\nL 127.774716 48.070883 \r\nL 203.865625 36.708902 \r\nL 279.956534 31.027911 \r\nL 356.047443 17.083636 \r\n\" style=\"fill:none;stroke:#ff7f0e;stroke-linecap:square;stroke-width:1.5;\"/>\r\n   </g>\r\n   <g id=\"patch_3\">\r\n    <path d=\"M 36.465625 224.64 \r\nL 36.465625 7.2 \r\n\" style=\"fill:none;stroke:#000000;stroke-linecap:square;stroke-linejoin:miter;stroke-width:0.8;\"/>\r\n   </g>\r\n   <g id=\"patch_4\">\r\n    <path d=\"M 371.265625 224.64 \r\nL 371.265625 7.2 \r\n\" style=\"fill:none;stroke:#000000;stroke-linecap:square;stroke-linejoin:miter;stroke-width:0.8;\"/>\r\n   </g>\r\n   <g id=\"patch_5\">\r\n    <path d=\"M 36.465625 224.64 \r\nL 371.265625 224.64 \r\n\" style=\"fill:none;stroke:#000000;stroke-linecap:square;stroke-linejoin:miter;stroke-width:0.8;\"/>\r\n   </g>\r\n   <g id=\"patch_6\">\r\n    <path d=\"M 36.465625 7.2 \r\nL 371.265625 7.2 \r\n\" style=\"fill:none;stroke:#000000;stroke-linecap:square;stroke-linejoin:miter;stroke-width:0.8;\"/>\r\n   </g>\r\n  </g>\r\n </g>\r\n <defs>\r\n  <clipPath id=\"p10911de3da\">\r\n   <rect height=\"217.44\" width=\"334.8\" x=\"36.465625\" y=\"7.2\"/>\r\n  </clipPath>\r\n </defs>\r\n</svg>\r\n",
      "image/png": "[encoded data removed]"
     },
     "metadata": {
      "needs_background": "light"
     }
    }
   ],
   "source": [
    "plt.plot(history.history['accuracy'])\n",
    "plt.plot(history.history['val_accuracy'])"
   ]
  },
  {
   "cell_type": "code",
   "execution_count": 11,
   "metadata": {},
   "outputs": [
    {
     "output_type": "stream",
     "name": "stderr",
     "text": [
      "<ipython-input-11-b914e23c6705>:16: SettingWithCopyWarning: \nA value is trying to be set on a copy of a slice from a DataFrame.\nTry using .loc[row_indexer,col_indexer] = value instead\n\nSee the caveats in the documentation: https://pandas.pydata.org/pandas-docs/stable/user_guide/indexing.html#returning-a-view-versus-a-copy\n  data_filtered_event['LSTM_predict'] = traces_result_temp['predicted_event']\nC:\\User Data\\Programs\\Python\\Python3.8.3-64\\lib\\site-packages\\pandas\\core\\generic.py:6746: SettingWithCopyWarning: \nA value is trying to be set on a copy of a slice from a DataFrame\n\nSee the caveats in the documentation: https://pandas.pydata.org/pandas-docs/stable/user_guide/indexing.html#returning-a-view-versus-a-copy\n  self._update_inplace(new_data)\n"
     ]
    },
    {
     "output_type": "execute_result",
     "data": {
      "text/plain": [
       "             eventID_  case_concept:name              event_concept:name  \\\n",
       "0      44964012621824             206324                     A_SUBMITTED   \n",
       "1      44964012621825             206324               A_PARTLYSUBMITTED   \n",
       "2      44964012621826             206324                      A_DECLINED   \n",
       "3      44968307589120             206327                     A_SUBMITTED   \n",
       "4      44968307589121             206327               A_PARTLYSUBMITTED   \n",
       "...               ...                ...                             ...   \n",
       "47818  54666343743523             213276  W_Nabellen incomplete dossiers   \n",
       "47819  54666343743524             213276  W_Nabellen incomplete dossiers   \n",
       "47820  49495203119136             209595             W_Nabellen offertes   \n",
       "47821  52342766436386             211624  W_Nabellen incomplete dossiers   \n",
       "47822  52342766436387             211624  W_Nabellen incomplete dossiers   \n",
       "\n",
       "                           next_event            LSTM_predict  \n",
       "0                   A_PARTLYSUBMITTED     W_Nabellen offertes  \n",
       "1                          A_DECLINED             A_FINALIZED  \n",
       "2                         A_SUBMITTED  W_Completeren aanvraag  \n",
       "3                   A_PARTLYSUBMITTED    W_Valideren aanvraag  \n",
       "4                       A_PREACCEPTED     W_Nabellen offertes  \n",
       "...                               ...                     ...  \n",
       "47818  W_Nabellen incomplete dossiers                     NaN  \n",
       "47819             W_Nabellen offertes                     NaN  \n",
       "47820  W_Nabellen incomplete dossiers                     NaN  \n",
       "47821  W_Nabellen incomplete dossiers                     NaN  \n",
       "47822  W_Nabellen incomplete dossiers                     NaN  \n",
       "\n",
       "[47823 rows x 5 columns]"
      ],
      "text/html": "<div>\n<style scoped>\n    .dataframe tbody tr th:only-of-type {\n        vertical-align: middle;\n    }\n\n    .dataframe tbody tr th {\n        vertical-align: top;\n    }\n\n    .dataframe thead th {\n        text-align: right;\n    }\n</style>\n<table border=\"1\" class=\"dataframe\">\n  <thead>\n    <tr style=\"text-align: right;\">\n      <th></th>\n      <th>eventID_</th>\n      <th>case_concept:name</th>\n      <th>event_concept:name</th>\n      <th>next_event</th>\n      <th>LSTM_predict</th>\n    </tr>\n  </thead>\n  <tbody>\n    <tr>\n      <th>0</th>\n      <td>44964012621824</td>\n      <td>206324</td>\n      <td>A_SUBMITTED</td>\n      <td>A_PARTLYSUBMITTED</td>\n      <td>W_Nabellen offertes</td>\n    </tr>\n    <tr>\n      <th>1</th>\n      <td>44964012621825</td>\n      <td>206324</td>\n      <td>A_PARTLYSUBMITTED</td>\n      <td>A_DECLINED</td>\n      <td>A_FINALIZED</td>\n    </tr>\n    <tr>\n      <th>2</th>\n      <td>44964012621826</td>\n      <td>206324</td>\n      <td>A_DECLINED</td>\n      <td>A_SUBMITTED</td>\n      <td>W_Completeren aanvraag</td>\n    </tr>\n    <tr>\n      <th>3</th>\n      <td>44968307589120</td>\n      <td>206327</td>\n      <td>A_SUBMITTED</td>\n      <td>A_PARTLYSUBMITTED</td>\n      <td>W_Valideren aanvraag</td>\n    </tr>\n    <tr>\n      <th>4</th>\n      <td>44968307589121</td>\n      <td>206327</td>\n      <td>A_PARTLYSUBMITTED</td>\n      <td>A_PREACCEPTED</td>\n      <td>W_Nabellen offertes</td>\n    </tr>\n    <tr>\n      <th>...</th>\n      <td>...</td>\n      <td>...</td>\n      <td>...</td>\n      <td>...</td>\n      <td>...</td>\n    </tr>\n    <tr>\n      <th>47818</th>\n      <td>54666343743523</td>\n      <td>213276</td>\n      <td>W_Nabellen incomplete dossiers</td>\n      <td>W_Nabellen incomplete dossiers</td>\n      <td>NaN</td>\n    </tr>\n    <tr>\n      <th>47819</th>\n      <td>54666343743524</td>\n      <td>213276</td>\n      <td>W_Nabellen incomplete dossiers</td>\n      <td>W_Nabellen offertes</td>\n      <td>NaN</td>\n    </tr>\n    <tr>\n      <th>47820</th>\n      <td>49495203119136</td>\n      <td>209595</td>\n      <td>W_Nabellen offertes</td>\n      <td>W_Nabellen incomplete dossiers</td>\n      <td>NaN</td>\n    </tr>\n    <tr>\n      <th>47821</th>\n      <td>52342766436386</td>\n      <td>211624</td>\n      <td>W_Nabellen incomplete dossiers</td>\n      <td>W_Nabellen incomplete dossiers</td>\n      <td>NaN</td>\n    </tr>\n    <tr>\n      <th>47822</th>\n      <td>52342766436387</td>\n      <td>211624</td>\n      <td>W_Nabellen incomplete dossiers</td>\n      <td>W_Nabellen incomplete dossiers</td>\n      <td>NaN</td>\n    </tr>\n  </tbody>\n</table>\n<p>47823 rows × 5 columns</p>\n</div>"
     },
     "metadata": {},
     "execution_count": 11
    }
   ],
   "source": [
    "#Results for both the train and test\n",
    "traces_result = np.argmax(model_LSTM.predict(all_traces), axis=1)\n",
    "traces_valid_result = np.argmax(model_LSTM.predict(all_traces_valid), axis=1)\n",
    "\n",
    "#Different way of trying the same: Also works when changing some other lines below but also has NAN values at the bottom\n",
    "#event_result = pd.DataFrame({'expected_event': all_traces_val, 'predicted_event': traces_result})\n",
    "#event_valid_result = pd.DataFrame({'expected_event': all_traces_val_valid, 'predicted_event': traces_valid_result})\n",
    "#event_result_temp = pd.DataFrame()\n",
    "#event_result_temp['predicted_event'] = event_result['predicted_event']\n",
    "#event_result_temp['predicted_event_val'] = event_valid_result['predicted_event']\n",
    "#event_result_temp['predicted_event'].append(event_result_temp['predicted_event_val'], ignore_index=True)\n",
    "\n",
    "#Combining results and adding them to the original dataset\n",
    "traces_combined_result = np.concatenate((traces_result , traces_valid_result))\n",
    "traces_result_temp = pd.DataFrame({'predicted_event': traces_result})\n",
    "data_filtered_event['LSTM_predict'] = traces_result_temp['predicted_event']\n",
    "\n",
    "#Reverse dictionary to get the original events back instead of numbers\n",
    "inv_event_name_dict = {v: k for k, v in event_name_dict.items()}\n",
    "data_filtered_event['LSTM_predict'].replace(inv_event_name_dict, inplace=True)\n",
    "data_filtered_event['event_concept:name'].replace(inv_event_name_dict, inplace=True)\n",
    "data_filtered_event['next_event'].replace(inv_event_name_dict, inplace=True)\n",
    "\n",
    "data_filtered_event"
   ]
  },
  {
   "cell_type": "code",
   "execution_count": 14,
   "metadata": {},
   "outputs": [],
   "source": [
    "data_filtered_event.to_csv('event_time_BPI2012_LSTM.csv')"
   ]
  }
 ]
}